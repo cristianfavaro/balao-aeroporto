{
 "cells": [
  {
   "cell_type": "code",
   "execution_count": 1,
   "id": "31af99ae-ae7e-459d-92f4-14b038e1f9d9",
   "metadata": {},
   "outputs": [],
   "source": [
    "import pandas as pd\n",
    "import matplotlib.pyplot as plt"
   ]
  },
  {
   "cell_type": "code",
   "execution_count": null,
   "id": "2cbbf9a3-7060-429e-b10b-ab7424395319",
   "metadata": {},
   "outputs": [],
   "source": [
    "# !pip install lxml\n",
    "# !pip install matplotlib"
   ]
  },
  {
   "cell_type": "code",
   "execution_count": 233,
   "id": "604483b8-4440-498c-84c4-d06cba8ff99a",
   "metadata": {},
   "outputs": [],
   "source": [
    "dicst_aeroportos_icao = {\n",
    "    \"SBBR\": \"Aeroporto Internacional de Brasília / Presidente Juscelino Kubitschek\", \n",
    "    \"SBSP\": \"Aeroporto Internacional de São Paulo / Congonhas\", \n",
    "    \"SBGL\": \"Aeroporto Internacional do Rio de Janeiro / Galeão-Antônio Carlos Jobim\", \n",
    "    \"SBSV\": \"Aeroporto Internacional de Salvador / Deputado Luis Eduardo Magalhães\", \n",
    "    \"SBFL\": \"Aeroporto Internacional de Florianópolis / Hercílio Luz\", \n",
    "    \"SBPA\": \"Aeroporto Internacional de Porto Alegre / Salgado Filho\", \n",
    "    \"SBKP\": \"Aeroporto Internacional de Viracopos / Campinas\", \n",
    "    \"SBRF\": \"Aeroporto Internacional do Recife/ Guararapes – Gilberto Freyre\", \n",
    "    \"SBCT\": \"Aeroporto Internacional de Curitiba / Afonso Pena\", \n",
    "    \"SBBE\": \"Aeroporto Internacional de Belém / Val de Cans\", \n",
    "    \"SBVT\": \"Aeroporto de Vitória – Eurico de Aguiar Salles\", \n",
    "    \"SBRJ\": \"Aeroporto Santos Dumont\", \n",
    "    \"SBCY\": \"Aeroporto Internacional de Cuiabá / Marechal Rondon\", \n",
    "    \"SBCG\": \"Aeroporto Internacional de Campo Grande\", \n",
    "    \"SBFZ\": \"Aeroporto Internacional de Fortaleza / Pinto Martins\", \n",
    "    \"SBMQ\": \"Aeroporto Internacional de Macapá\", \n",
    "    \"SBMG\": \"Aeroporto Regional de Maringá / Silvio Name Junior\", \n",
    "    \"SBGO\": \"Aeroporto de Goiânia / Santa Genoveva\", \n",
    "    \"SBNF\": \"Aeroporto Internacional de Navegantes / Ministro Victor Konder\", \n",
    "    \"SBEG\": \"Aeroporto Internacional de Manaus / Eduardo Gomes\", \n",
    "    \"SBNT\": \"Aeroporto Internacional de Natal / Augusto Severo\", \n",
    "    \"SBPS\": \"Aeroporto Internacional de Porto Seguro\", \n",
    "    \"SBMO\": \"Aeroporto de Maceió / Zumbi dos Palmares\", \n",
    "    \"SSPS\": \"Aeroporto de Palmas/Brigadeiro Lysias Rodrigues\", \n",
    "    \"SBSL\": \"Aeroporto Internacional de São Luís / Marechal Cunha Machado\", \n",
    "    \"SBGR\": \"Aeroporto Internacional de São Paulo/Guarulhos-Governador André Franco Motoro\", \n",
    "    \"SBLO\": \"Aeroporto de Londrina / Governador José Richa\", \n",
    "    \"SBPV\": \"Aeroporto Internacional de Porto Velho / Governador Jorge Teixeira de Oliveira\", \n",
    "    \"SBRB\": \"Aeroporto Internacional de Rio Branco / Plácido de Castro\", \n",
    "    \"SBJV\": \"Aeroporto de Joinville / Lauro Carneiro de Loyola\", \n",
    "    \"SBUL\": \"Aeroporto de Uberlândia / Ten. Cel. Av. César Bombonato\", \n",
    "    \"SBCX\": \"Aeroporto Regional de Caxias do Sul / Hugo Cantergiani\", \n",
    "    \"SBFI\": \"Aeroporto Internacional de Foz do Iguaçu\", \n",
    "    \"SBTE\": \"Aeroporto de Teresina – Senador Petrônio Portella\", \n",
    "    \"SBAR\": \"Aeroporto Internacional de Aracaju / Santa Maria\", \n",
    "    \"SBJP\": \"Aeroporto Internacional de João Pessoa / Presidente Castro Pinto\", \n",
    "    \"SBPL\": \"Aeroporto de Petrolina / Senador Nilo Coelho\", \n",
    "    \"SBCF\": \"Aeroporto Internacional de Minas Gerais / Confins – Tancredo Neves\", \n",
    "    \"SBBV\": \"Aeroporto Internacional de Boa Vista / Atlas Brasil Cantanhede\", \n",
    "    \"SBKG\": \"Aeroporto de Campina Grande / Presidente João Suassuna\", \n",
    "    \"SBSN\": \"Aeroporto de Santarém / Maestro Wilson Fonseca\", \n",
    "    \"SBIL\": \"Aeroporto de Ilhéus/Bahia-Jorge Amado\", \n",
    "    \"SBJU\": \"Aeroporto de Juazeiro do Norte – Orlando Bezerra\", \n",
    "    \"SBIZ\": \"Aeroporto de Imperatriz – Prefeito Renato Moreira\", \n",
    "    \"SBCH\": \"Aeroporto de Chapecó – Serafin Enoss Bertaso\", \n",
    "    \"SBMA\": \"Aeroporto de Marabá\", \n",
    "    \"SBCZ\": \"Aeroporto Internacional de Cruzeiro do Sul\", \n",
    "    \"SBDN\": \"Aeroporto Estadual de Presidente Prudente\", \n",
    "    \"SBCB\": \"Aeroporto Internacional de Cabo Frio\", \n",
    "    \"SBFN\": \"Aeroporto de Fernando de Noronha\", \n",
    "    \"SJTC\": \"Aeroporto Estadual de Bauru/Arealva\", \n",
    "    \"SBMK\": \"Aeroporto de Montes Claros/Mário Ribeiro\", \n",
    "    \"SBBI\": \"Aeroporto de Bacacheri / Curitiba\",\n",
    "    \"SBMT\": \"Aeroporto Campo de Marte\",\n",
    "}"
   ]
  },
  {
   "cell_type": "code",
   "execution_count": 507,
   "id": "07bf1136-20e0-4933-971e-2828d09f1cd3",
   "metadata": {},
   "outputs": [],
   "source": [
    "#código para baixar os dados quando necessário\n",
    "def parse_pages():\n",
    "    db = pd.DataFrame()\n",
    "    page = 1\n",
    "    is_empty = False\n",
    "    while not is_empty:\n",
    "        tables = pd.read_html(f\"https://sistema.cenipa.fab.mil.br/cenipa/baloeiro/pesquisa?&pag={page}\", extract_links=\"all\")\n",
    "        df = tables[1]\n",
    "        #limpando a base com as tublas dos links. \n",
    "        for column in df.columns:\n",
    "            if column == df.columns[-1]:\n",
    "                index = 1\n",
    "            else: \n",
    "                index = 0\n",
    "            df[column] = df[column].str[index]\n",
    "        \n",
    "        new_header = df.iloc[0]\n",
    "        df = df[1:] \n",
    "        df.columns = new_header \n",
    "        \n",
    "        is_empty = df.empty\n",
    "        if not is_empty:\n",
    "            print('\\r', \"Pegando a página \", page, end='')\n",
    "            db = pd.concat([db, df], ignore_index=True)\n",
    "            page += 1\n",
    "        \n",
    "    return db"
   ]
  },
  {
   "cell_type": "code",
   "execution_count": 254,
   "id": "a3804c5a-b9a4-406a-b5e6-e9767dab0ce0",
   "metadata": {},
   "outputs": [],
   "source": [
    "# df = parse_pages()\n",
    "# df['Data'] = pd.to_datetime(df['Data'], format='%d/%m/%Y')\n",
    "df = pd.read_csv(\"./dados.csv\", sep=\";\")"
   ]
  },
  {
   "cell_type": "code",
   "execution_count": 256,
   "id": "bfc24dd4-a2c5-4315-91b0-d64189eeca02",
   "metadata": {},
   "outputs": [
    {
     "data": {
      "text/plain": [
       "7261"
      ]
     },
     "execution_count": 256,
     "metadata": {},
     "output_type": "execute_result"
    }
   ],
   "source": [
    "len(df)"
   ]
  },
  {
   "cell_type": "code",
   "execution_count": 257,
   "id": "82e37238-2db6-43f9-977d-fdff39414723",
   "metadata": {},
   "outputs": [],
   "source": [
    "df['Data'] = pd.to_datetime(df['Data'])"
   ]
  },
  {
   "cell_type": "code",
   "execution_count": 258,
   "id": "666d7d51-cf50-4678-bc1d-26e8a40b66ec",
   "metadata": {},
   "outputs": [
    {
     "data": {
      "text/html": [
       "<div>\n",
       "<style scoped>\n",
       "    .dataframe tbody tr th:only-of-type {\n",
       "        vertical-align: middle;\n",
       "    }\n",
       "\n",
       "    .dataframe tbody tr th {\n",
       "        vertical-align: top;\n",
       "    }\n",
       "\n",
       "    .dataframe thead th {\n",
       "        text-align: right;\n",
       "    }\n",
       "</style>\n",
       "<table border=\"1\" class=\"dataframe\">\n",
       "  <thead>\n",
       "    <tr style=\"text-align: right;\">\n",
       "      <th></th>\n",
       "      <th>Tipo Reporte</th>\n",
       "      <th>Operador</th>\n",
       "      <th>Aeródromo</th>\n",
       "      <th>Data</th>\n",
       "      <th>Hora</th>\n",
       "      <th>UF</th>\n",
       "      <th>Cidade</th>\n",
       "      <th>Fase de Operação</th>\n",
       "      <th>Efeito no Voo</th>\n",
       "      <th>Colisão</th>\n",
       "      <th>Unnamed: 10</th>\n",
       "      <th>year</th>\n",
       "      <th>month</th>\n",
       "    </tr>\n",
       "  </thead>\n",
       "  <tbody>\n",
       "    <tr>\n",
       "      <th>0</th>\n",
       "      <td>CONTROLADOR DE TRÁFEGO AÉREO</td>\n",
       "      <td>TWR-GL</td>\n",
       "      <td>SBGL</td>\n",
       "      <td>2023-09-24</td>\n",
       "      <td>07:00:00</td>\n",
       "      <td>RJ</td>\n",
       "      <td>Rio de Janeiro</td>\n",
       "      <td>Outra</td>\n",
       "      <td>Nenhum</td>\n",
       "      <td>Não</td>\n",
       "      <td>detalhar?op===AUUhmRVxGcPZlRRpXTWJVU&amp;acao=deta...</td>\n",
       "      <td>2023</td>\n",
       "      <td>9</td>\n",
       "    </tr>\n",
       "    <tr>\n",
       "      <th>1</th>\n",
       "      <td>OPERADOR</td>\n",
       "      <td>BMKC</td>\n",
       "      <td>SBMT</td>\n",
       "      <td>2023-09-24</td>\n",
       "      <td>10:15:00</td>\n",
       "      <td>SP</td>\n",
       "      <td>Sao Paulo</td>\n",
       "      <td>Outra</td>\n",
       "      <td>Nenhum</td>\n",
       "      <td>Não</td>\n",
       "      <td>detalhar?op===AUUhmRVxGcPFGbSNUTWJVU&amp;acao=deta...</td>\n",
       "      <td>2023</td>\n",
       "      <td>9</td>\n",
       "    </tr>\n",
       "  </tbody>\n",
       "</table>\n",
       "</div>"
      ],
      "text/plain": [
       "                   Tipo Reporte Operador Aeródromo       Data      Hora  UF  \\\n",
       "0  CONTROLADOR DE TRÁFEGO AÉREO   TWR-GL      SBGL 2023-09-24  07:00:00  RJ   \n",
       "1                      OPERADOR     BMKC      SBMT 2023-09-24  10:15:00  SP   \n",
       "\n",
       "           Cidade Fase de Operação Efeito no Voo Colisão  \\\n",
       "0  Rio de Janeiro            Outra        Nenhum     Não   \n",
       "1       Sao Paulo            Outra        Nenhum     Não   \n",
       "\n",
       "                                         Unnamed: 10  year  month  \n",
       "0  detalhar?op===AUUhmRVxGcPZlRRpXTWJVU&acao=deta...  2023      9  \n",
       "1  detalhar?op===AUUhmRVxGcPFGbSNUTWJVU&acao=deta...  2023      9  "
      ]
     },
     "execution_count": 258,
     "metadata": {},
     "output_type": "execute_result"
    }
   ],
   "source": [
    "df.head(2)"
   ]
  },
  {
   "cell_type": "markdown",
   "id": "d6073a88-abba-41f6-adf9-90b37f1420ff",
   "metadata": {},
   "source": [
    "## Análise das colisões"
   ]
  },
  {
   "cell_type": "code",
   "execution_count": 11,
   "id": "2a386c57-62c2-4faa-a5be-4e29b31d5a8d",
   "metadata": {},
   "outputs": [],
   "source": [
    "collision = df[df[\"Colisão\"] == \"Sim\"]"
   ]
  },
  {
   "cell_type": "code",
   "execution_count": 12,
   "id": "8cbda284-1a50-4692-96e8-bf2e683e17e8",
   "metadata": {},
   "outputs": [
    {
     "data": {
      "text/plain": [
       "32"
      ]
     },
     "execution_count": 12,
     "metadata": {},
     "output_type": "execute_result"
    }
   ],
   "source": [
    "len(collision)"
   ]
  },
  {
   "cell_type": "code",
   "execution_count": 14,
   "id": "17614b0a-bcc0-4fb3-9427-ff20afc9a25a",
   "metadata": {},
   "outputs": [
    {
     "data": {
      "text/html": [
       "<div>\n",
       "<style scoped>\n",
       "    .dataframe tbody tr th:only-of-type {\n",
       "        vertical-align: middle;\n",
       "    }\n",
       "\n",
       "    .dataframe tbody tr th {\n",
       "        vertical-align: top;\n",
       "    }\n",
       "\n",
       "    .dataframe thead th {\n",
       "        text-align: right;\n",
       "    }\n",
       "</style>\n",
       "<table border=\"1\" class=\"dataframe\">\n",
       "  <thead>\n",
       "    <tr style=\"text-align: right;\">\n",
       "      <th></th>\n",
       "      <th>Tipo Reporte</th>\n",
       "      <th>Operador</th>\n",
       "      <th>Aeródromo</th>\n",
       "      <th>Data</th>\n",
       "      <th>Hora</th>\n",
       "      <th>UF</th>\n",
       "      <th>Cidade</th>\n",
       "      <th>Fase de Operação</th>\n",
       "      <th>Efeito no Voo</th>\n",
       "      <th>Colisão</th>\n",
       "      <th>Unnamed: 10</th>\n",
       "      <th>year</th>\n",
       "      <th>month</th>\n",
       "    </tr>\n",
       "  </thead>\n",
       "  <tbody>\n",
       "    <tr>\n",
       "      <th>24</th>\n",
       "      <td>CONTROLADOR DE TRÁFEGO AÉREO</td>\n",
       "      <td>KLM791</td>\n",
       "      <td>SBGR</td>\n",
       "      <td>2023-09-18</td>\n",
       "      <td>22:37:00</td>\n",
       "      <td>SP</td>\n",
       "      <td>Guarulhos</td>\n",
       "      <td>NaN</td>\n",
       "      <td>Pouso</td>\n",
       "      <td>Sim</td>\n",
       "      <td>detalhar?op===AUUhmRVxGcLFGbSNVTWJVU&amp;acao=deta...</td>\n",
       "      <td>2023</td>\n",
       "      <td>9</td>\n",
       "    </tr>\n",
       "    <tr>\n",
       "      <th>1620</th>\n",
       "      <td>ADMINISTRAÇÃO AEROPORTUÁRIA</td>\n",
       "      <td>GOL</td>\n",
       "      <td>SBGR</td>\n",
       "      <td>2022-02-20</td>\n",
       "      <td>08:40:00</td>\n",
       "      <td>SP</td>\n",
       "      <td>Guarulhos</td>\n",
       "      <td>Outra</td>\n",
       "      <td>Outros</td>\n",
       "      <td>Sim</td>\n",
       "      <td>detalhar?op===AUUJlcZhlSTZlRSVXTWJVU&amp;acao=deta...</td>\n",
       "      <td>2022</td>\n",
       "      <td>2</td>\n",
       "    </tr>\n",
       "  </tbody>\n",
       "</table>\n",
       "</div>"
      ],
      "text/plain": [
       "                      Tipo Reporte Operador Aeródromo        Data      Hora  \\\n",
       "24    CONTROLADOR DE TRÁFEGO AÉREO   KLM791      SBGR  2023-09-18  22:37:00   \n",
       "1620   ADMINISTRAÇÃO AEROPORTUÁRIA      GOL      SBGR  2022-02-20  08:40:00   \n",
       "\n",
       "      UF     Cidade Fase de Operação Efeito no Voo Colisão  \\\n",
       "24    SP  Guarulhos              NaN         Pouso     Sim   \n",
       "1620  SP  Guarulhos            Outra        Outros     Sim   \n",
       "\n",
       "                                            Unnamed: 10  year  month  \n",
       "24    detalhar?op===AUUhmRVxGcLFGbSNVTWJVU&acao=deta...  2023      9  \n",
       "1620  detalhar?op===AUUJlcZhlSTZlRSVXTWJVU&acao=deta...  2022      2  "
      ]
     },
     "execution_count": 14,
     "metadata": {},
     "output_type": "execute_result"
    }
   ],
   "source": [
    "collision.head(2)"
   ]
  },
  {
   "cell_type": "markdown",
   "id": "bf8fd735-d95d-4331-9004-0d8addb4d6aa",
   "metadata": {},
   "source": [
    "## Análise da evolução no tempo de casos de balões reportados"
   ]
  },
  {
   "cell_type": "code",
   "execution_count": 15,
   "id": "116f2726-6182-4a97-8e41-98d7f199338d",
   "metadata": {},
   "outputs": [],
   "source": [
    "def getMonth(s):\n",
    "  return s.month\n",
    "\n",
    "def getYear(s):\n",
    "  return s.year\n"
   ]
  },
  {
   "cell_type": "code",
   "execution_count": 23,
   "id": "bcc149b8-be70-4f53-aa90-c04d15991310",
   "metadata": {},
   "outputs": [],
   "source": [
    "df[\"year\"] = df[\"Data\"].apply(lambda x: getYear(x))\n",
    "df[\"month\"] = df[\"Data\"].apply(lambda x: getMonth(x))"
   ]
  },
  {
   "cell_type": "code",
   "execution_count": 29,
   "id": "b45f9f0c-2554-4abd-bbdd-9a926c936827",
   "metadata": {},
   "outputs": [],
   "source": [
    "df[\"Colisão\"] = df[\"Colisão\"].fillna(\"\")"
   ]
  },
  {
   "cell_type": "code",
   "execution_count": 24,
   "id": "a203a51e-273d-467e-b062-015da991af24",
   "metadata": {},
   "outputs": [
    {
     "data": {
      "text/html": [
       "<div>\n",
       "<style scoped>\n",
       "    .dataframe tbody tr th:only-of-type {\n",
       "        vertical-align: middle;\n",
       "    }\n",
       "\n",
       "    .dataframe tbody tr th {\n",
       "        vertical-align: top;\n",
       "    }\n",
       "\n",
       "    .dataframe thead th {\n",
       "        text-align: right;\n",
       "    }\n",
       "</style>\n",
       "<table border=\"1\" class=\"dataframe\">\n",
       "  <thead>\n",
       "    <tr style=\"text-align: right;\">\n",
       "      <th></th>\n",
       "      <th>Tipo Reporte</th>\n",
       "      <th>Operador</th>\n",
       "      <th>Aeródromo</th>\n",
       "      <th>Data</th>\n",
       "      <th>Hora</th>\n",
       "      <th>UF</th>\n",
       "      <th>Cidade</th>\n",
       "      <th>Fase de Operação</th>\n",
       "      <th>Efeito no Voo</th>\n",
       "      <th>Colisão</th>\n",
       "      <th>Unnamed: 10</th>\n",
       "      <th>year</th>\n",
       "      <th>month</th>\n",
       "    </tr>\n",
       "  </thead>\n",
       "  <tbody>\n",
       "    <tr>\n",
       "      <th>0</th>\n",
       "      <td>CONTROLADOR DE TRÁFEGO AÉREO</td>\n",
       "      <td>TWR-GL</td>\n",
       "      <td>SBGL</td>\n",
       "      <td>2023-09-24</td>\n",
       "      <td>07:00:00</td>\n",
       "      <td>RJ</td>\n",
       "      <td>Rio de Janeiro</td>\n",
       "      <td>Outra</td>\n",
       "      <td>Nenhum</td>\n",
       "      <td>Não</td>\n",
       "      <td>detalhar?op===AUUhmRVxGcPZlRRpXTWJVU&amp;acao=deta...</td>\n",
       "      <td>2023</td>\n",
       "      <td>9</td>\n",
       "    </tr>\n",
       "    <tr>\n",
       "      <th>1</th>\n",
       "      <td>OPERADOR</td>\n",
       "      <td>BMKC</td>\n",
       "      <td>SBMT</td>\n",
       "      <td>2023-09-24</td>\n",
       "      <td>10:15:00</td>\n",
       "      <td>SP</td>\n",
       "      <td>Sao Paulo</td>\n",
       "      <td>Outra</td>\n",
       "      <td>Nenhum</td>\n",
       "      <td>Não</td>\n",
       "      <td>detalhar?op===AUUhmRVxGcPFGbSNUTWJVU&amp;acao=deta...</td>\n",
       "      <td>2023</td>\n",
       "      <td>9</td>\n",
       "    </tr>\n",
       "  </tbody>\n",
       "</table>\n",
       "</div>"
      ],
      "text/plain": [
       "                   Tipo Reporte Operador Aeródromo       Data      Hora  UF  \\\n",
       "0  CONTROLADOR DE TRÁFEGO AÉREO   TWR-GL      SBGL 2023-09-24  07:00:00  RJ   \n",
       "1                      OPERADOR     BMKC      SBMT 2023-09-24  10:15:00  SP   \n",
       "\n",
       "           Cidade Fase de Operação Efeito no Voo Colisão  \\\n",
       "0  Rio de Janeiro            Outra        Nenhum     Não   \n",
       "1       Sao Paulo            Outra        Nenhum     Não   \n",
       "\n",
       "                                         Unnamed: 10  year  month  \n",
       "0  detalhar?op===AUUhmRVxGcPZlRRpXTWJVU&acao=deta...  2023      9  \n",
       "1  detalhar?op===AUUhmRVxGcPFGbSNUTWJVU&acao=deta...  2023      9  "
      ]
     },
     "execution_count": 24,
     "metadata": {},
     "output_type": "execute_result"
    }
   ],
   "source": [
    "df.head(2)"
   ]
  },
  {
   "cell_type": "code",
   "execution_count": 53,
   "id": "166ac4d9-d6f5-40cb-bd70-ef87a5f50e1e",
   "metadata": {},
   "outputs": [],
   "source": [
    "def count_collitions(x):\n",
    "    return x[x.str.contains('Sim')].count()\n",
    "\n",
    "grouped_dados = df.groupby([\"year\", \"month\"]).agg(\n",
    "    count=(\"Colisão\", 'count'),\n",
    "    collisions=(\"Colisão\", count_collitions),\n",
    ")"
   ]
  },
  {
   "cell_type": "code",
   "execution_count": 54,
   "id": "770d014d-062d-4f23-800f-81371287ed4e",
   "metadata": {},
   "outputs": [],
   "source": [
    "grouped_dados = grouped_dados.reset_index()"
   ]
  },
  {
   "cell_type": "code",
   "execution_count": 55,
   "id": "35293f38-19b5-46c1-a7c9-bc4893e3c63f",
   "metadata": {},
   "outputs": [],
   "source": [
    "grouped_dados_2023 = grouped_dados[grouped_dados[\"year\"] == 2023]"
   ]
  },
  {
   "cell_type": "code",
   "execution_count": 56,
   "id": "7c989368-e9be-491c-84db-47aa31ff15a0",
   "metadata": {},
   "outputs": [
    {
     "data": {
      "text/plain": [
       "804"
      ]
     },
     "execution_count": 56,
     "metadata": {},
     "output_type": "execute_result"
    }
   ],
   "source": [
    "grouped_dados_2023[\"count\"].sum()"
   ]
  },
  {
   "cell_type": "code",
   "execution_count": 57,
   "id": "6445b6b6-1ea5-4248-8117-c49aad2f0d01",
   "metadata": {},
   "outputs": [
    {
     "data": {
      "text/html": [
       "<div>\n",
       "<style scoped>\n",
       "    .dataframe tbody tr th:only-of-type {\n",
       "        vertical-align: middle;\n",
       "    }\n",
       "\n",
       "    .dataframe tbody tr th {\n",
       "        vertical-align: top;\n",
       "    }\n",
       "\n",
       "    .dataframe thead th {\n",
       "        text-align: right;\n",
       "    }\n",
       "</style>\n",
       "<table border=\"1\" class=\"dataframe\">\n",
       "  <thead>\n",
       "    <tr style=\"text-align: right;\">\n",
       "      <th></th>\n",
       "      <th>year</th>\n",
       "      <th>month</th>\n",
       "      <th>count</th>\n",
       "      <th>collisions</th>\n",
       "    </tr>\n",
       "  </thead>\n",
       "  <tbody>\n",
       "    <tr>\n",
       "      <th>0</th>\n",
       "      <td>1974</td>\n",
       "      <td>5</td>\n",
       "      <td>1</td>\n",
       "      <td>0</td>\n",
       "    </tr>\n",
       "    <tr>\n",
       "      <th>1</th>\n",
       "      <td>1980</td>\n",
       "      <td>6</td>\n",
       "      <td>1</td>\n",
       "      <td>0</td>\n",
       "    </tr>\n",
       "    <tr>\n",
       "      <th>2</th>\n",
       "      <td>1981</td>\n",
       "      <td>12</td>\n",
       "      <td>1</td>\n",
       "      <td>0</td>\n",
       "    </tr>\n",
       "    <tr>\n",
       "      <th>3</th>\n",
       "      <td>1983</td>\n",
       "      <td>11</td>\n",
       "      <td>1</td>\n",
       "      <td>0</td>\n",
       "    </tr>\n",
       "    <tr>\n",
       "      <th>4</th>\n",
       "      <td>1988</td>\n",
       "      <td>8</td>\n",
       "      <td>1</td>\n",
       "      <td>0</td>\n",
       "    </tr>\n",
       "    <tr>\n",
       "      <th>...</th>\n",
       "      <td>...</td>\n",
       "      <td>...</td>\n",
       "      <td>...</td>\n",
       "      <td>...</td>\n",
       "    </tr>\n",
       "    <tr>\n",
       "      <th>163</th>\n",
       "      <td>2023</td>\n",
       "      <td>5</td>\n",
       "      <td>161</td>\n",
       "      <td>0</td>\n",
       "    </tr>\n",
       "    <tr>\n",
       "      <th>164</th>\n",
       "      <td>2023</td>\n",
       "      <td>6</td>\n",
       "      <td>135</td>\n",
       "      <td>0</td>\n",
       "    </tr>\n",
       "    <tr>\n",
       "      <th>165</th>\n",
       "      <td>2023</td>\n",
       "      <td>7</td>\n",
       "      <td>98</td>\n",
       "      <td>0</td>\n",
       "    </tr>\n",
       "    <tr>\n",
       "      <th>166</th>\n",
       "      <td>2023</td>\n",
       "      <td>8</td>\n",
       "      <td>60</td>\n",
       "      <td>0</td>\n",
       "    </tr>\n",
       "    <tr>\n",
       "      <th>167</th>\n",
       "      <td>2023</td>\n",
       "      <td>9</td>\n",
       "      <td>68</td>\n",
       "      <td>1</td>\n",
       "    </tr>\n",
       "  </tbody>\n",
       "</table>\n",
       "<p>168 rows × 4 columns</p>\n",
       "</div>"
      ],
      "text/plain": [
       "     year  month  count  collisions\n",
       "0    1974      5      1           0\n",
       "1    1980      6      1           0\n",
       "2    1981     12      1           0\n",
       "3    1983     11      1           0\n",
       "4    1988      8      1           0\n",
       "..    ...    ...    ...         ...\n",
       "163  2023      5    161           0\n",
       "164  2023      6    135           0\n",
       "165  2023      7     98           0\n",
       "166  2023      8     60           0\n",
       "167  2023      9     68           1\n",
       "\n",
       "[168 rows x 4 columns]"
      ]
     },
     "execution_count": 57,
     "metadata": {},
     "output_type": "execute_result"
    }
   ],
   "source": [
    "grouped_dados"
   ]
  },
  {
   "cell_type": "code",
   "execution_count": 73,
   "id": "fb38cb5d-9d51-4033-8b0b-d6d88e04d694",
   "metadata": {},
   "outputs": [
    {
     "data": {
      "text/plain": [
       "<Axes: xlabel='month'>"
      ]
     },
     "execution_count": 73,
     "metadata": {},
     "output_type": "execute_result"
    },
    {
     "data": {
      "image/png": "[encoded data removed]",
      "text/plain": [
       "<Figure size 640x480 with 1 Axes>"
      ]
     },
     "metadata": {},
     "output_type": "display_data"
    }
   ],
   "source": [
    "grouped_dados.plot.bar(x=\"month\", y=\"count\")"
   ]
  },
  {
   "cell_type": "markdown",
   "id": "4c479637-f385-44b3-a3f3-2a0f2ce39f9b",
   "metadata": {},
   "source": [
    "## Análise até o mês final deste ano"
   ]
  },
  {
   "cell_type": "code",
   "execution_count": 60,
   "id": "c27d8962-e3b6-4b0c-9cb2-761868726438",
   "metadata": {},
   "outputs": [],
   "source": [
    "df_filtered = df[df[\"Data\"].dt.month <= 9]"
   ]
  },
  {
   "cell_type": "code",
   "execution_count": 61,
   "id": "7fcb30b5-cfa9-41bf-b346-db155e876e96",
   "metadata": {},
   "outputs": [],
   "source": [
    "grouped = df_filtered.groupby([\"year\"]).agg(\n",
    "    count=(\"Colisão\", 'count'),\n",
    "    collisions=(\"Colisão\", count_collitions),\n",
    ")"
   ]
  },
  {
   "cell_type": "code",
   "execution_count": 87,
   "id": "012e17ff-6069-4e51-960c-1e7ac29528b4",
   "metadata": {},
   "outputs": [
    {
     "data": {
      "text/html": [
       "<div>\n",
       "<style scoped>\n",
       "    .dataframe tbody tr th:only-of-type {\n",
       "        vertical-align: middle;\n",
       "    }\n",
       "\n",
       "    .dataframe tbody tr th {\n",
       "        vertical-align: top;\n",
       "    }\n",
       "\n",
       "    .dataframe thead th {\n",
       "        text-align: right;\n",
       "    }\n",
       "</style>\n",
       "<table border=\"1\" class=\"dataframe\">\n",
       "  <thead>\n",
       "    <tr style=\"text-align: right;\">\n",
       "      <th></th>\n",
       "      <th>year</th>\n",
       "      <th>count</th>\n",
       "      <th>collisions</th>\n",
       "    </tr>\n",
       "  </thead>\n",
       "  <tbody>\n",
       "    <tr>\n",
       "      <th>0</th>\n",
       "      <td>1974</td>\n",
       "      <td>1</td>\n",
       "      <td>0</td>\n",
       "    </tr>\n",
       "    <tr>\n",
       "      <th>1</th>\n",
       "      <td>1980</td>\n",
       "      <td>1</td>\n",
       "      <td>0</td>\n",
       "    </tr>\n",
       "    <tr>\n",
       "      <th>2</th>\n",
       "      <td>1988</td>\n",
       "      <td>1</td>\n",
       "      <td>0</td>\n",
       "    </tr>\n",
       "    <tr>\n",
       "      <th>3</th>\n",
       "      <td>1990</td>\n",
       "      <td>1</td>\n",
       "      <td>0</td>\n",
       "    </tr>\n",
       "    <tr>\n",
       "      <th>4</th>\n",
       "      <td>1992</td>\n",
       "      <td>1</td>\n",
       "      <td>0</td>\n",
       "    </tr>\n",
       "    <tr>\n",
       "      <th>5</th>\n",
       "      <td>1999</td>\n",
       "      <td>2</td>\n",
       "      <td>1</td>\n",
       "    </tr>\n",
       "    <tr>\n",
       "      <th>6</th>\n",
       "      <td>2000</td>\n",
       "      <td>1</td>\n",
       "      <td>0</td>\n",
       "    </tr>\n",
       "    <tr>\n",
       "      <th>7</th>\n",
       "      <td>2001</td>\n",
       "      <td>2</td>\n",
       "      <td>0</td>\n",
       "    </tr>\n",
       "    <tr>\n",
       "      <th>8</th>\n",
       "      <td>2002</td>\n",
       "      <td>1</td>\n",
       "      <td>0</td>\n",
       "    </tr>\n",
       "    <tr>\n",
       "      <th>9</th>\n",
       "      <td>2008</td>\n",
       "      <td>1</td>\n",
       "      <td>0</td>\n",
       "    </tr>\n",
       "    <tr>\n",
       "      <th>10</th>\n",
       "      <td>2010</td>\n",
       "      <td>1</td>\n",
       "      <td>0</td>\n",
       "    </tr>\n",
       "    <tr>\n",
       "      <th>11</th>\n",
       "      <td>2011</td>\n",
       "      <td>23</td>\n",
       "      <td>1</td>\n",
       "    </tr>\n",
       "    <tr>\n",
       "      <th>12</th>\n",
       "      <td>2012</td>\n",
       "      <td>119</td>\n",
       "      <td>1</td>\n",
       "    </tr>\n",
       "    <tr>\n",
       "      <th>13</th>\n",
       "      <td>2013</td>\n",
       "      <td>171</td>\n",
       "      <td>3</td>\n",
       "    </tr>\n",
       "    <tr>\n",
       "      <th>14</th>\n",
       "      <td>2014</td>\n",
       "      <td>269</td>\n",
       "      <td>5</td>\n",
       "    </tr>\n",
       "    <tr>\n",
       "      <th>15</th>\n",
       "      <td>2015</td>\n",
       "      <td>264</td>\n",
       "      <td>4</td>\n",
       "    </tr>\n",
       "    <tr>\n",
       "      <th>16</th>\n",
       "      <td>2016</td>\n",
       "      <td>374</td>\n",
       "      <td>3</td>\n",
       "    </tr>\n",
       "    <tr>\n",
       "      <th>17</th>\n",
       "      <td>2017</td>\n",
       "      <td>576</td>\n",
       "      <td>3</td>\n",
       "    </tr>\n",
       "    <tr>\n",
       "      <th>18</th>\n",
       "      <td>2018</td>\n",
       "      <td>759</td>\n",
       "      <td>2</td>\n",
       "    </tr>\n",
       "    <tr>\n",
       "      <th>19</th>\n",
       "      <td>2019</td>\n",
       "      <td>765</td>\n",
       "      <td>2</td>\n",
       "    </tr>\n",
       "    <tr>\n",
       "      <th>20</th>\n",
       "      <td>2020</td>\n",
       "      <td>480</td>\n",
       "      <td>1</td>\n",
       "    </tr>\n",
       "    <tr>\n",
       "      <th>21</th>\n",
       "      <td>2021</td>\n",
       "      <td>743</td>\n",
       "      <td>0</td>\n",
       "    </tr>\n",
       "    <tr>\n",
       "      <th>22</th>\n",
       "      <td>2022</td>\n",
       "      <td>757</td>\n",
       "      <td>1</td>\n",
       "    </tr>\n",
       "    <tr>\n",
       "      <th>23</th>\n",
       "      <td>2023</td>\n",
       "      <td>804</td>\n",
       "      <td>1</td>\n",
       "    </tr>\n",
       "  </tbody>\n",
       "</table>\n",
       "</div>"
      ],
      "text/plain": [
       "    year  count  collisions\n",
       "0   1974      1           0\n",
       "1   1980      1           0\n",
       "2   1988      1           0\n",
       "3   1990      1           0\n",
       "4   1992      1           0\n",
       "5   1999      2           1\n",
       "6   2000      1           0\n",
       "7   2001      2           0\n",
       "8   2002      1           0\n",
       "9   2008      1           0\n",
       "10  2010      1           0\n",
       "11  2011     23           1\n",
       "12  2012    119           1\n",
       "13  2013    171           3\n",
       "14  2014    269           5\n",
       "15  2015    264           4\n",
       "16  2016    374           3\n",
       "17  2017    576           3\n",
       "18  2018    759           2\n",
       "19  2019    765           2\n",
       "20  2020    480           1\n",
       "21  2021    743           0\n",
       "22  2022    757           1\n",
       "23  2023    804           1"
      ]
     },
     "execution_count": 87,
     "metadata": {},
     "output_type": "execute_result"
    }
   ],
   "source": [
    "grouped = grouped.reset_index()\n",
    "grouped"
   ]
  },
  {
   "cell_type": "code",
   "execution_count": 470,
   "id": "eccb5ea6-cc19-4d39-b98a-110d944d9db5",
   "metadata": {},
   "outputs": [
    {
     "data": {
      "text/plain": [
       "<Axes: >"
      ]
     },
     "execution_count": 470,
     "metadata": {},
     "output_type": "execute_result"
    },
    {
     "data": {
      "image/png": "[encoded data removed]",
      "text/plain": [
       "<Figure size 640x480 with 1 Axes>"
      ]
     },
     "metadata": {},
     "output_type": "display_data"
    }
   ],
   "source": [
    "grouped[\"count\"].plot.line()"
   ]
  },
  {
   "cell_type": "code",
   "execution_count": 459,
   "id": "e0e206bf-6db5-422a-9a23-15c6ee1215f3",
   "metadata": {},
   "outputs": [
    {
     "data": {
      "text/html": [
       "<iframe\n",
       "    scrolling=\"no\"\n",
       "    width=\"100%\"\n",
       "    height=\"545px\"\n",
       "    src=\"iframe_figures/figure_459.html\"\n",
       "    frameborder=\"0\"\n",
       "    allowfullscreen\n",
       "></iframe>\n"
      ]
     },
     "metadata": {},
     "output_type": "display_data"
    }
   ],
   "source": [
    "#Plotly\n",
    "fig = px.line(\n",
    "    grouped, x=\"year\", y=\"count\",\n",
    "    title=\"Incidência de Balões por ano<br><sup>2023 figura como o recorde (dados consideram reportes até setembro em todos os anos)</sup>\",\n",
    ")\n",
    "fig.update_layout(\n",
    "    xaxis_title=\"Ano\", yaxis_title=\"Número de reportes\",\n",
    ")\n",
    "fig.show()"
   ]
  },
  {
   "cell_type": "code",
   "execution_count": 460,
   "id": "63834c7d-0fac-44df-97ec-1f8a76ebfc63",
   "metadata": {},
   "outputs": [],
   "source": [
    "fig.write_html(\"pages/total.html\")"
   ]
  },
  {
   "cell_type": "markdown",
   "id": "6d39d4eb-8013-4e6c-92dd-905b592cd462",
   "metadata": {},
   "source": [
    "## Qual mês do ano mais acontece?"
   ]
  },
  {
   "cell_type": "code",
   "execution_count": 89,
   "id": "03b95156-2190-447b-84d3-17213a294182",
   "metadata": {},
   "outputs": [
    {
     "data": {
      "text/html": [
       "<div>\n",
       "<style scoped>\n",
       "    .dataframe tbody tr th:only-of-type {\n",
       "        vertical-align: middle;\n",
       "    }\n",
       "\n",
       "    .dataframe tbody tr th {\n",
       "        vertical-align: top;\n",
       "    }\n",
       "\n",
       "    .dataframe thead th {\n",
       "        text-align: right;\n",
       "    }\n",
       "</style>\n",
       "<table border=\"1\" class=\"dataframe\">\n",
       "  <thead>\n",
       "    <tr style=\"text-align: right;\">\n",
       "      <th></th>\n",
       "      <th>Tipo Reporte</th>\n",
       "      <th>Operador</th>\n",
       "      <th>Aeródromo</th>\n",
       "      <th>Data</th>\n",
       "      <th>Hora</th>\n",
       "      <th>UF</th>\n",
       "      <th>Cidade</th>\n",
       "      <th>Fase de Operação</th>\n",
       "      <th>Efeito no Voo</th>\n",
       "      <th>Colisão</th>\n",
       "      <th>Unnamed: 10</th>\n",
       "      <th>year</th>\n",
       "      <th>month</th>\n",
       "    </tr>\n",
       "  </thead>\n",
       "  <tbody>\n",
       "    <tr>\n",
       "      <th>0</th>\n",
       "      <td>CONTROLADOR DE TRÁFEGO AÉREO</td>\n",
       "      <td>TWR-GL</td>\n",
       "      <td>SBGL</td>\n",
       "      <td>2023-09-24</td>\n",
       "      <td>07:00:00</td>\n",
       "      <td>RJ</td>\n",
       "      <td>Rio de Janeiro</td>\n",
       "      <td>Outra</td>\n",
       "      <td>Nenhum</td>\n",
       "      <td>Não</td>\n",
       "      <td>detalhar?op===AUUhmRVxGcPZlRRpXTWJVU&amp;acao=deta...</td>\n",
       "      <td>2023</td>\n",
       "      <td>9</td>\n",
       "    </tr>\n",
       "    <tr>\n",
       "      <th>1</th>\n",
       "      <td>OPERADOR</td>\n",
       "      <td>BMKC</td>\n",
       "      <td>SBMT</td>\n",
       "      <td>2023-09-24</td>\n",
       "      <td>10:15:00</td>\n",
       "      <td>SP</td>\n",
       "      <td>Sao Paulo</td>\n",
       "      <td>Outra</td>\n",
       "      <td>Nenhum</td>\n",
       "      <td>Não</td>\n",
       "      <td>detalhar?op===AUUhmRVxGcPFGbSNUTWJVU&amp;acao=deta...</td>\n",
       "      <td>2023</td>\n",
       "      <td>9</td>\n",
       "    </tr>\n",
       "  </tbody>\n",
       "</table>\n",
       "</div>"
      ],
      "text/plain": [
       "                   Tipo Reporte Operador Aeródromo       Data      Hora  UF  \\\n",
       "0  CONTROLADOR DE TRÁFEGO AÉREO   TWR-GL      SBGL 2023-09-24  07:00:00  RJ   \n",
       "1                      OPERADOR     BMKC      SBMT 2023-09-24  10:15:00  SP   \n",
       "\n",
       "           Cidade Fase de Operação Efeito no Voo Colisão  \\\n",
       "0  Rio de Janeiro            Outra        Nenhum     Não   \n",
       "1       Sao Paulo            Outra        Nenhum     Não   \n",
       "\n",
       "                                         Unnamed: 10  year  month  \n",
       "0  detalhar?op===AUUhmRVxGcPZlRRpXTWJVU&acao=deta...  2023      9  \n",
       "1  detalhar?op===AUUhmRVxGcPFGbSNUTWJVU&acao=deta...  2023      9  "
      ]
     },
     "execution_count": 89,
     "metadata": {},
     "output_type": "execute_result"
    }
   ],
   "source": [
    "df.head(2)"
   ]
  },
  {
   "cell_type": "code",
   "execution_count": 468,
   "id": "03117990-e5ad-4262-ac6b-a6eade87db88",
   "metadata": {},
   "outputs": [
    {
     "data": {
      "text/plain": [
       "<Axes: >"
      ]
     },
     "execution_count": 468,
     "metadata": {},
     "output_type": "execute_result"
    },
    {
     "data": {
      "image/png": "[encoded data removed]",
      "text/plain": [
       "<Figure size 640x480 with 1 Axes>"
      ]
     },
     "metadata": {},
     "output_type": "display_data"
    }
   ],
   "source": [
    "df[\"month\"].hist()"
   ]
  },
  {
   "cell_type": "code",
   "execution_count": 457,
   "id": "7b9fe01c-dad4-4a2d-9d00-177018d17697",
   "metadata": {},
   "outputs": [
    {
     "data": {
      "text/html": [
       "<iframe\n",
       "    scrolling=\"no\"\n",
       "    width=\"100%\"\n",
       "    height=\"545px\"\n",
       "    src=\"iframe_figures/figure_457.html\"\n",
       "    frameborder=\"0\"\n",
       "    allowfullscreen\n",
       "></iframe>\n"
      ]
     },
     "metadata": {},
     "output_type": "display_data"
    }
   ],
   "source": [
    "### Versão Plotly\n",
    "fig = px.histogram(\n",
    "    df, x=\"month\",\n",
    "    title=\"Incidência de Balões<br><sup>Julho e junho lideram, seguidos por dezembro e janeiro</sup>\",\n",
    ")\n",
    "\n",
    "fig.update_layout(\n",
    "    xaxis_title=\"Mês do ano (Janeiro = 1)\", yaxis_title=\"Número de reportes\",\n",
    ")\n",
    "fig.show()"
   ]
  },
  {
   "cell_type": "markdown",
   "id": "6009a026-2dbc-4f3a-a5c8-138eb20815d0",
   "metadata": {},
   "source": [
    "## Principais aeroportos"
   ]
  },
  {
   "cell_type": "code",
   "execution_count": 500,
   "id": "2ce4fb3c-bfa5-4ca9-94d2-4c56e9ec5ca2",
   "metadata": {},
   "outputs": [],
   "source": [
    "aeroportos = df[\n",
    "        (df[\"year\"] >= 2016) & (df[\"Data\"].dt.month <= 9)\n",
    "    ]\\\n",
    "    .groupby([\"year\", \"Aeródromo\"]).agg(contagem=(\"Colisão\", \"count\")).reset_index()"
   ]
  },
  {
   "cell_type": "code",
   "execution_count": 502,
   "id": "a432a406-b743-49fb-b219-fe9ba6708e9c",
   "metadata": {},
   "outputs": [],
   "source": [
    "aeroportos_pivoted = pd.pivot_table(aeroportos, values=\"contagem\", index=[\"Aeródromo\"], columns=[\"year\"])"
   ]
  },
  {
   "cell_type": "code",
   "execution_count": 504,
   "id": "e68eb595-f217-4957-9a9c-761f3ee7490a",
   "metadata": {
    "scrolled": true
   },
   "outputs": [],
   "source": [
    "### Ajustando porque tem o erro na tabela de separar GRU do SBGR\n",
    "SBGR = aeroportos_pivoted[aeroportos_pivoted.index.isin([\"SBGR\", \"GRU\"])].sum()\n",
    "aeroportos_pivoted[aeroportos_pivoted.index == \"SBGR\"] = SBGR\n",
    "aeroportos_pivoted = aeroportos_pivoted.drop(index=[\"GRU\"]) # Apagando a coluna de GRU que já foi somada"
   ]
  },
  {
   "cell_type": "code",
   "execution_count": 505,
   "id": "08be9b94-ca27-4761-85ff-c4da18c845b5",
   "metadata": {},
   "outputs": [],
   "source": [
    "aeroportos_final = aeroportos_pivoted.sort_values(2023, ascending=False).reset_index().head(10)"
   ]
  },
  {
   "cell_type": "code",
   "execution_count": 506,
   "id": "29ec75b0-31d6-4eef-8a25-32ffcfeefc35",
   "metadata": {},
   "outputs": [
    {
     "data": {
      "text/html": [
       "<div>\n",
       "<style scoped>\n",
       "    .dataframe tbody tr th:only-of-type {\n",
       "        vertical-align: middle;\n",
       "    }\n",
       "\n",
       "    .dataframe tbody tr th {\n",
       "        vertical-align: top;\n",
       "    }\n",
       "\n",
       "    .dataframe thead th {\n",
       "        text-align: right;\n",
       "    }\n",
       "</style>\n",
       "<table border=\"1\" class=\"dataframe\">\n",
       "  <thead>\n",
       "    <tr style=\"text-align: right;\">\n",
       "      <th>year</th>\n",
       "      <th>Aeródromo</th>\n",
       "      <th>2016</th>\n",
       "      <th>2017</th>\n",
       "      <th>2018</th>\n",
       "      <th>2019</th>\n",
       "      <th>2020</th>\n",
       "      <th>2021</th>\n",
       "      <th>2022</th>\n",
       "      <th>2023</th>\n",
       "    </tr>\n",
       "  </thead>\n",
       "  <tbody>\n",
       "    <tr>\n",
       "      <th>0</th>\n",
       "      <td>SBRJ</td>\n",
       "      <td>15.0</td>\n",
       "      <td>63.0</td>\n",
       "      <td>98.0</td>\n",
       "      <td>60.0</td>\n",
       "      <td>47.0</td>\n",
       "      <td>147.0</td>\n",
       "      <td>151.0</td>\n",
       "      <td>174.0</td>\n",
       "    </tr>\n",
       "    <tr>\n",
       "      <th>1</th>\n",
       "      <td>SBKP</td>\n",
       "      <td>52.0</td>\n",
       "      <td>57.0</td>\n",
       "      <td>41.0</td>\n",
       "      <td>35.0</td>\n",
       "      <td>63.0</td>\n",
       "      <td>111.0</td>\n",
       "      <td>74.0</td>\n",
       "      <td>98.0</td>\n",
       "    </tr>\n",
       "    <tr>\n",
       "      <th>2</th>\n",
       "      <td>SBGR</td>\n",
       "      <td>77.0</td>\n",
       "      <td>114.0</td>\n",
       "      <td>236.0</td>\n",
       "      <td>232.0</td>\n",
       "      <td>91.0</td>\n",
       "      <td>89.0</td>\n",
       "      <td>94.0</td>\n",
       "      <td>52.0</td>\n",
       "    </tr>\n",
       "    <tr>\n",
       "      <th>3</th>\n",
       "      <td>SBGL</td>\n",
       "      <td>37.0</td>\n",
       "      <td>34.0</td>\n",
       "      <td>30.0</td>\n",
       "      <td>71.0</td>\n",
       "      <td>48.0</td>\n",
       "      <td>77.0</td>\n",
       "      <td>56.0</td>\n",
       "      <td>45.0</td>\n",
       "    </tr>\n",
       "    <tr>\n",
       "      <th>4</th>\n",
       "      <td>SBMT</td>\n",
       "      <td>1.0</td>\n",
       "      <td>3.0</td>\n",
       "      <td>20.0</td>\n",
       "      <td>4.0</td>\n",
       "      <td>20.0</td>\n",
       "      <td>9.0</td>\n",
       "      <td>16.0</td>\n",
       "      <td>41.0</td>\n",
       "    </tr>\n",
       "    <tr>\n",
       "      <th>5</th>\n",
       "      <td>SBBI</td>\n",
       "      <td>12.0</td>\n",
       "      <td>22.0</td>\n",
       "      <td>15.0</td>\n",
       "      <td>9.0</td>\n",
       "      <td>16.0</td>\n",
       "      <td>19.0</td>\n",
       "      <td>10.0</td>\n",
       "      <td>39.0</td>\n",
       "    </tr>\n",
       "    <tr>\n",
       "      <th>6</th>\n",
       "      <td>SBJR</td>\n",
       "      <td>5.0</td>\n",
       "      <td>46.0</td>\n",
       "      <td>69.0</td>\n",
       "      <td>51.0</td>\n",
       "      <td>38.0</td>\n",
       "      <td>17.0</td>\n",
       "      <td>23.0</td>\n",
       "      <td>33.0</td>\n",
       "    </tr>\n",
       "    <tr>\n",
       "      <th>7</th>\n",
       "      <td>SBSP</td>\n",
       "      <td>22.0</td>\n",
       "      <td>46.0</td>\n",
       "      <td>52.0</td>\n",
       "      <td>84.0</td>\n",
       "      <td>20.0</td>\n",
       "      <td>45.0</td>\n",
       "      <td>41.0</td>\n",
       "      <td>30.0</td>\n",
       "    </tr>\n",
       "    <tr>\n",
       "      <th>8</th>\n",
       "      <td>SBSC</td>\n",
       "      <td>6.0</td>\n",
       "      <td>13.0</td>\n",
       "      <td>10.0</td>\n",
       "      <td>5.0</td>\n",
       "      <td>5.0</td>\n",
       "      <td>10.0</td>\n",
       "      <td>4.0</td>\n",
       "      <td>14.0</td>\n",
       "    </tr>\n",
       "    <tr>\n",
       "      <th>9</th>\n",
       "      <td>SBAF</td>\n",
       "      <td>3.0</td>\n",
       "      <td>10.0</td>\n",
       "      <td>29.0</td>\n",
       "      <td>25.0</td>\n",
       "      <td>25.0</td>\n",
       "      <td>21.0</td>\n",
       "      <td>21.0</td>\n",
       "      <td>14.0</td>\n",
       "    </tr>\n",
       "  </tbody>\n",
       "</table>\n",
       "</div>"
      ],
      "text/plain": [
       "year Aeródromo  2016   2017   2018   2019  2020   2021   2022   2023\n",
       "0         SBRJ  15.0   63.0   98.0   60.0  47.0  147.0  151.0  174.0\n",
       "1         SBKP  52.0   57.0   41.0   35.0  63.0  111.0   74.0   98.0\n",
       "2         SBGR  77.0  114.0  236.0  232.0  91.0   89.0   94.0   52.0\n",
       "3         SBGL  37.0   34.0   30.0   71.0  48.0   77.0   56.0   45.0\n",
       "4         SBMT   1.0    3.0   20.0    4.0  20.0    9.0   16.0   41.0\n",
       "5         SBBI  12.0   22.0   15.0    9.0  16.0   19.0   10.0   39.0\n",
       "6         SBJR   5.0   46.0   69.0   51.0  38.0   17.0   23.0   33.0\n",
       "7         SBSP  22.0   46.0   52.0   84.0  20.0   45.0   41.0   30.0\n",
       "8         SBSC   6.0   13.0   10.0    5.0   5.0   10.0    4.0   14.0\n",
       "9         SBAF   3.0   10.0   29.0   25.0  25.0   21.0   21.0   14.0"
      ]
     },
     "execution_count": 506,
     "metadata": {},
     "output_type": "execute_result"
    }
   ],
   "source": [
    "aeroportos_final"
   ]
  },
  {
   "cell_type": "code",
   "execution_count": 499,
   "id": "d9e3f2fb-3843-43e5-9b54-b4f377506000",
   "metadata": {},
   "outputs": [
    {
     "data": {
      "image/png": "[encoded data removed]",
      "text/plain": [
       "<Figure size 640x480 with 1 Axes>"
      ]
     },
     "metadata": {},
     "output_type": "display_data"
    }
   ],
   "source": [
    "x = aeroportos_final.columns[1:]\n",
    "  \n",
    "# plot lines\n",
    "for aeroporto in list(aeroportos_final[\"Aeródromo\"]):\n",
    "    values = aeroportos_final[aeroportos_final[\"Aeródromo\"] == aeroporto].values[0][1:]\n",
    "    plt.plot(x, values, label = aeroporto)\n",
    "\n",
    "plt.legend()\n",
    "plt.show()"
   ]
  },
  {
   "cell_type": "code",
   "execution_count": 442,
   "id": "c06c9cb6-19bd-4373-a2d3-ca2295ed3b73",
   "metadata": {},
   "outputs": [],
   "source": [
    "aeroportos_melted = pd.melt(aeroportos_final, id_vars=[\"Aeródromo\"], var_name=\"year\")\n",
    "aeroportos_melted[\"nome\"] = aeroportos_melted[\"Aeródromo\"].apply(lambda x: dicst_aeroportos_icao.get(x))"
   ]
  },
  {
   "cell_type": "code",
   "execution_count": 461,
   "id": "443743a5-8884-4ddd-94a1-35783a004010",
   "metadata": {},
   "outputs": [
    {
     "data": {
      "text/html": [
       "<iframe\n",
       "    scrolling=\"no\"\n",
       "    width=\"100%\"\n",
       "    height=\"545px\"\n",
       "    src=\"iframe_figures/figure_461.html\"\n",
       "    frameborder=\"0\"\n",
       "    allowfullscreen\n",
       "></iframe>\n"
      ]
     },
     "metadata": {},
     "output_type": "display_data"
    }
   ],
   "source": [
    "#plotly\n",
    "fig = px.line(\n",
    "    aeroportos_melted, x=\"year\", y=\"value\", color='Aeródromo', hover_data=[\"nome\", \"value\", \"year\"],\n",
    "    title=\"Incidência de Balões / Aeroportos<br><sup>Santos Dumont lidera ranking; Guarulhos, que liderava, passou para terceiro lugar</sup>\",\n",
    ")\n",
    "fig.update_layout(\n",
    "    xaxis_title=\"Ano\", yaxis_title=\"Número de reportes\",\n",
    ")\n",
    "fig.show()"
   ]
  }
 ],
 "metadata": {
  "kernelspec": {
   "display_name": "Python 3 (ipykernel)",
   "language": "python",
   "name": "python3"
  },
  "language_info": {
   "codemirror_mode": {
    "name": "ipython",
    "version": 3
   },
   "file_extension": ".py",
   "mimetype": "text/x-python",
   "name": "python",
   "nbconvert_exporter": "python",
   "pygments_lexer": "ipython3",
   "version": "3.11.5"
  }
 },
 "nbformat": 4,
 "nbformat_minor": 5
}
